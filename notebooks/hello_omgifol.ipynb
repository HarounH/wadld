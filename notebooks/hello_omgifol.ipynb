{
 "cells": [
  {
   "cell_type": "code",
   "execution_count": 2,
   "metadata": {},
   "outputs": [],
   "source": [
    "%matplotlib inline\n",
    "%load_ext autoreload\n",
    "%autoreload 2\n",
    "import sys\n",
    "sys.path.append(\"/data/wadld/\")\n",
    "import os\n",
    "import cv2\n",
    "import numpy as np\n",
    "import pandas as pd\n",
    "import torch\n",
    "import matplotlib\n",
    "import matplotlib.pyplot as plt\n",
    "import sklearn\n",
    "import sklearn.mixture as mixture\n",
    "import sklearn.cluster as cluster\n",
    "import omg\n",
    "import omg.mapedit as mapedit\n",
    "import copy"
   ]
  },
  {
   "cell_type": "code",
   "execution_count": 4,
   "metadata": {},
   "outputs": [],
   "source": [
    "ddir = \"/data/wadld/data/dataset/\"\n",
    "df_filename = \"all_wads.pkl\"\n",
    "df = pd.read_pickle(os.path.join(ddir, df_filename))"
   ]
  },
  {
   "cell_type": "code",
   "execution_count": 6,
   "metadata": {},
   "outputs": [],
   "source": [
    "wad_dir = \"nos4dead_0\" # \"refinery_0\"  # \"pagbspd3_0/\"\n",
    "filename = \"nos4dead.wad\"# \"REFINERY.WAD\"# \"pagbspd3.wad\"\n",
    "wad_path = os.path.join(ddir, wad_dir, filename)\n",
    "inwad = omg.WAD()\n",
    "inwad.from_file(wad_path)\n",
    "del inwad"
   ]
  },
  {
   "cell_type": "code",
   "execution_count": 4,
   "metadata": {},
   "outputs": [],
   "source": [
    "wad = mapedit.MapEditor(inwad.maps['E1M1'])"
   ]
  },
  {
   "cell_type": "code",
   "execution_count": 32,
   "metadata": {},
   "outputs": [
    {
     "data": {
      "text/plain": [
       "2"
      ]
     },
     "execution_count": 32,
     "metadata": {},
     "output_type": "execute_result"
    }
   ],
   "source": [
    "wad.linedefs[0].vx_a"
   ]
  },
  {
   "cell_type": "code",
   "execution_count": 15,
   "metadata": {},
   "outputs": [],
   "source": [
    "lol = copy.deepcopy(wad.linedefs[0])"
   ]
  },
  {
   "cell_type": "code",
   "execution_count": 18,
   "metadata": {},
   "outputs": [],
   "source": [
    "lol.vx_a = 3"
   ]
  },
  {
   "cell_type": "code",
   "execution_count": 20,
   "metadata": {},
   "outputs": [
    {
     "data": {
      "text/plain": [
       "3"
      ]
     },
     "execution_count": 20,
     "metadata": {},
     "output_type": "execute_result"
    }
   ],
   "source": [
    "lol.vx_a"
   ]
  },
  {
   "cell_type": "code",
   "execution_count": 26,
   "metadata": {},
   "outputs": [
    {
     "data": {
      "text/plain": [
       "0"
      ]
     },
     "execution_count": 26,
     "metadata": {},
     "output_type": "execute_result"
    }
   ],
   "source": [
    "wad.sidedefs[0].sector"
   ]
  },
  {
   "cell_type": "code",
   "execution_count": 27,
   "metadata": {},
   "outputs": [
    {
     "data": {
      "text/plain": [
       "<Struct at 0x7f41bb712048>"
      ]
     },
     "execution_count": 27,
     "metadata": {},
     "output_type": "execute_result"
    }
   ],
   "source": [
    "wad.sectors[0]"
   ]
  },
  {
   "cell_type": "code",
   "execution_count": 228,
   "metadata": {},
   "outputs": [],
   "source": [
    "from data import preprocessing as prep"
   ]
  },
  {
   "cell_type": "code",
   "execution_count": 249,
   "metadata": {},
   "outputs": [
    {
     "data": {
      "text/plain": [
       "<matplotlib.image.AxesImage at 0x7f7e613d0198>"
      ]
     },
     "execution_count": 249,
     "metadata": {},
     "output_type": "execute_result"
    },
    {
     "data": {
      "image/png": "[encoded data removed]",
      "text/plain": [
       "<Figure size 720x720 with 1 Axes>"
      ]
     },
     "metadata": {
      "needs_background": "light"
     },
     "output_type": "display_data"
    }
   ],
   "source": [
    "wad_dir = \"acastle2_0/\" # \"refinery_0\"  # \"pagbspd3_0/\" # \"nos4dead_0/\" # \n",
    "filename = \"ACASTLE2.WAD\"# \"REFINERY.WAD\"# \"pagbspd3.wad\" \"nos4dead.wad\" # \n",
    "wad_path = os.path.join(ddir, wad_dir, filename)\n",
    "\n",
    "mapeditors = prep.load_map_editors(wad_path)\n",
    "obj = mapeditors['E1M4']\n",
    "img = obj.draw_linedefs(color=(1.0, 0.5, 1.0), boundary=1000)\n",
    "plt.figure(figsize=(10, 10))\n",
    "plt.imshow(img)"
   ]
  },
  {
   "cell_type": "code",
   "execution_count": 250,
   "metadata": {},
   "outputs": [],
   "source": [
    "wad = obj.wad"
   ]
  },
  {
   "cell_type": "code",
   "execution_count": 251,
   "metadata": {},
   "outputs": [
    {
     "name": "stderr",
     "output_type": "stream",
     "text": [
      "/anaconda/envs/py37/lib/python3.7/site-packages/sklearn/utils/validation.py:595: DataConversionWarning: Data with input dtype int64 was converted to float64 by StandardScaler.\n",
      "  warnings.warn(msg, DataConversionWarning)\n",
      "/anaconda/envs/py37/lib/python3.7/site-packages/sklearn/utils/validation.py:595: DataConversionWarning: Data with input dtype int64 was converted to float64 by StandardScaler.\n",
      "  warnings.warn(msg, DataConversionWarning)\n"
     ]
    }
   ],
   "source": [
    "clusters = obj.split(4)"
   ]
  },
  {
   "cell_type": "code",
   "execution_count": 252,
   "metadata": {},
   "outputs": [],
   "source": [
    "for i in range(len(clusters)):\n",
    "    enclosed = clusters[i].enclose()\n",
    "    enclosed.append_to_wad(\"E1M4C{}\".format(i))\n",
    "wad.to_file(\"/data/wadld/output/clustered.wad\")"
   ]
  },
  {
   "cell_type": "code",
   "execution_count": 248,
   "metadata": {},
   "outputs": [
    {
     "data": {
      "text/plain": [
       "<omg.wad.WAD at 0x7f7e562bc128>"
      ]
     },
     "execution_count": 248,
     "metadata": {},
     "output_type": "execute_result"
    }
   ],
   "source": [
    "obj.append_to_wad(\"lolol\")"
   ]
  },
  {
   "cell_type": "code",
   "execution_count": 236,
   "metadata": {},
   "outputs": [
    {
     "data": {
      "text/plain": [
       "['E1M4', 'E1M4C0', 'E1M4C1', 'E1M4C2', 'E1M4C3']"
      ]
     },
     "execution_count": 236,
     "metadata": {},
     "output_type": "execute_result"
    }
   ],
   "source": [
    "wad.maps.keys()"
   ]
  },
  {
   "cell_type": "code",
   "execution_count": 211,
   "metadata": {},
   "outputs": [],
   "source": [
    "lol = mapedit.Linedef()"
   ]
  },
  {
   "cell_type": "code",
   "execution_count": 213,
   "metadata": {},
   "outputs": [],
   "source": [
    "lol.impassable = True"
   ]
  },
  {
   "cell_type": "code",
   "execution_count": 215,
   "metadata": {},
   "outputs": [
    {
     "data": {
      "text/plain": [
       "True"
      ]
     },
     "execution_count": 215,
     "metadata": {},
     "output_type": "execute_result"
    }
   ],
   "source": [
    "lol.impassable"
   ]
  },
  {
   "cell_type": "code",
   "execution_count": 254,
   "metadata": {},
   "outputs": [
    {
     "data": {
      "text/plain": [
       "ftp://mirrors.syringanetworks.net/idgames/levels/doom/0-9/0.zip             32\n",
       "ftp://mirrors.syringanetworks.net/idgames/levels/doom/0-9/00_e2m8.zip       47\n",
       "ftp://mirrors.syringanetworks.net/idgames/levels/doom/0-9/01fava.zip       122\n",
       "ftp://mirrors.syringanetworks.net/idgames/levels/doom/0-9/01shit.zip        26\n",
       "ftp://mirrors.syringanetworks.net/idgames/levels/doom/0-9/02what.zip        22\n",
       "ftp://mirrors.syringanetworks.net/idgames/levels/doom/0-9/10years.zip       39\n",
       "ftp://mirrors.syringanetworks.net/idgames/levels/doom/0-9/11bones.zip       15\n",
       "ftp://mirrors.syringanetworks.net/idgames/levels/doom/0-9/11fortko.zip      13\n",
       "ftp://mirrors.syringanetworks.net/idgames/levels/doom/0-9/11getbfg.zip      27\n",
       "ftp://mirrors.syringanetworks.net/idgames/levels/doom/0-9/11inhell.zip       7\n",
       "ftp://mirrors.syringanetworks.net/idgames/levels/doom/0-9/11nideck.zip       3\n",
       "ftp://mirrors.syringanetworks.net/idgames/levels/doom/0-9/11space.zip       14\n",
       "ftp://mirrors.syringanetworks.net/idgames/levels/doom/0-9/12lost2.zip        6\n",
       "ftp://mirrors.syringanetworks.net/idgames/levels/doom/0-9/1500ad.zip        18\n",
       "ftp://mirrors.syringanetworks.net/idgames/levels/doom/0-9/1_on_1.zip        15\n",
       "ftp://mirrors.syringanetworks.net/idgames/levels/doom/0-9/1berserk.zip       6\n",
       "ftp://mirrors.syringanetworks.net/idgames/levels/doom/0-9/1chaos.zip         6\n",
       "ftp://mirrors.syringanetworks.net/idgames/levels/doom/0-9/1fiffy.zip        13\n",
       "ftp://mirrors.syringanetworks.net/idgames/levels/doom/0-9/1fiffy2.zip        8\n",
       "ftp://mirrors.syringanetworks.net/idgames/levels/doom/0-9/1fiffy3.zip        8\n",
       "ftp://mirrors.syringanetworks.net/idgames/levels/doom/0-9/1fiffy4.zip        7\n",
       "ftp://mirrors.syringanetworks.net/idgames/levels/doom/0-9/1fiffy5.zip        3\n",
       "ftp://mirrors.syringanetworks.net/idgames/levels/doom/0-9/1fiffy6.zip        6\n",
       "ftp://mirrors.syringanetworks.net/idgames/levels/doom/0-9/1fiffy7.zip        7\n",
       "ftp://mirrors.syringanetworks.net/idgames/levels/doom/0-9/1fifwar.zip        9\n",
       "ftp://mirrors.syringanetworks.net/idgames/levels/doom/0-9/1fifwar2.zip      11\n",
       "ftp://mirrors.syringanetworks.net/idgames/levels/doom/0-9/1fifwar3.zip       9\n",
       "ftp://mirrors.syringanetworks.net/idgames/levels/doom/0-9/1kill.zip         19\n",
       "ftp://mirrors.syringanetworks.net/idgames/levels/doom/0-9/1killxtr.zip      17\n",
       "ftp://mirrors.syringanetworks.net/idgames/levels/doom/0-9/1pois1.zip        11\n",
       "                                                                          ... \n",
       "ftp://mirrors.syringanetworks.net/idgames/levels/doom2/v-z/yngve1_2.zip      6\n",
       "ftp://mirrors.syringanetworks.net/idgames/levels/doom2/v-z/yngve2_2.zip      7\n",
       "ftp://mirrors.syringanetworks.net/idgames/levels/doom2/v-z/yourdead.zip      7\n",
       "ftp://mirrors.syringanetworks.net/idgames/levels/doom2/v-z/zak1.zip          3\n",
       "ftp://mirrors.syringanetworks.net/idgames/levels/doom2/v-z/zandor2.zip       5\n",
       "ftp://mirrors.syringanetworks.net/idgames/levels/doom2/v-z/zank.zip          8\n",
       "ftp://mirrors.syringanetworks.net/idgames/levels/doom2/v-z/zap07.zip         6\n",
       "ftp://mirrors.syringanetworks.net/idgames/levels/doom2/v-z/zap18.zip        32\n",
       "ftp://mirrors.syringanetworks.net/idgames/levels/doom2/v-z/zap28.zip         7\n",
       "ftp://mirrors.syringanetworks.net/idgames/levels/doom2/v-z/zap30.zip         5\n",
       "ftp://mirrors.syringanetworks.net/idgames/levels/doom2/v-z/zapnrun2.zip      1\n",
       "ftp://mirrors.syringanetworks.net/idgames/levels/doom2/v-z/zar.zip          11\n",
       "ftp://mirrors.syringanetworks.net/idgames/levels/doom2/v-z/zealot.zip        4\n",
       "ftp://mirrors.syringanetworks.net/idgames/levels/doom2/v-z/zed-big1.zip      3\n",
       "ftp://mirrors.syringanetworks.net/idgames/levels/doom2/v-z/zeh.zip           5\n",
       "ftp://mirrors.syringanetworks.net/idgames/levels/doom2/v-z/zelda.zip         7\n",
       "ftp://mirrors.syringanetworks.net/idgames/levels/doom2/v-z/zelda3.zip        6\n",
       "ftp://mirrors.syringanetworks.net/idgames/levels/doom2/v-z/zeo.zip           8\n",
       "ftp://mirrors.syringanetworks.net/idgames/levels/doom2/v-z/zirp.zip          5\n",
       "ftp://mirrors.syringanetworks.net/idgames/levels/doom2/v-z/zoa2.zip          4\n",
       "ftp://mirrors.syringanetworks.net/idgames/levels/doom2/v-z/zombies.zip      60\n",
       "ftp://mirrors.syringanetworks.net/idgames/levels/doom2/v-z/zomheart.zip     34\n",
       "ftp://mirrors.syringanetworks.net/idgames/levels/doom2/v-z/zoo.zip           1\n",
       "ftp://mirrors.syringanetworks.net/idgames/levels/doom2/v-z/zoo2.zip          7\n",
       "ftp://mirrors.syringanetworks.net/idgames/levels/doom2/v-z/zoo3.zip         13\n",
       "ftp://mirrors.syringanetworks.net/idgames/levels/doom2/v-z/zork.zip          3\n",
       "ftp://mirrors.syringanetworks.net/idgames/levels/doom2/v-z/zorry.zip         6\n",
       "ftp://mirrors.syringanetworks.net/idgames/levels/doom2/v-z/zukky.zip        15\n",
       "ftp://mirrors.syringanetworks.net/idgames/levels/doom2/v-z/zwieback.zip     16\n",
       "ftp://mirrors.syringanetworks.net/idgames/levels/doom2/v-z/zzsketch.zip      8\n",
       "Name: votes, Length: 11805, dtype: int64"
      ]
     },
     "execution_count": 254,
     "metadata": {},
     "output_type": "execute_result"
    }
   ],
   "source": [
    "df.votes"
   ]
  },
  {
   "cell_type": "code",
   "execution_count": null,
   "metadata": {},
   "outputs": [],
   "source": []
  }
 ],
 "metadata": {
  "kernelspec": {
   "display_name": "Python [conda env:py37]",
   "language": "python",
   "name": "conda-env-py37-py"
  },
  "language_info": {
   "codemirror_mode": {
    "name": "ipython",
    "version": 3
   },
   "file_extension": ".py",
   "mimetype": "text/x-python",
   "name": "python",
   "nbconvert_exporter": "python",
   "pygments_lexer": "ipython3",
   "version": "3.7.1"
  }
 },
 "nbformat": 4,
 "nbformat_minor": 2
}
