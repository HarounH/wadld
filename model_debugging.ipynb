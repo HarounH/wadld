{
 "cells": [
  {
   "cell_type": "code",
   "execution_count": 4,
   "metadata": {},
   "outputs": [],
   "source": [
    "import os\n",
    "import argparse\n",
    "import torch\n",
    "import numpy as np\n",
    "from torch.nn.utils import rnn\n",
    "from torch.distributions import Bernoulli\n",
    "from modules import graph_rnn\n",
    "from utils.data import WaddleDataset\n",
    "use_cuda = torch.cuda.is_available()\n",
    "device = torch.device(\"cuda:0\" if use_cuda else \"cpu\")\n",
    "\n",
    "dataset = WaddleDataset(\"data/preprocessed_data/permute.pkl\")\n",
    "num_feat = dataset.discrete_feature_dim + dataset.continuous_feature_dim \\\n",
    "        + dataset.max_vertex_num\n"
   ]
  },
  {
   "cell_type": "code",
   "execution_count": 5,
   "metadata": {},
   "outputs": [
    {
     "data": {
      "text/plain": [
       "GraphRNN(\n",
       "  (theta_net): LSTM(385, 64, num_layers=3, batch_first=True)\n",
       "  (discrete_feature_net): Sequential(\n",
       "    (0): Linear(in_features=64, out_features=64, bias=True)\n",
       "    (1): Tanh()\n",
       "    (2): Linear(in_features=64, out_features=1, bias=True)\n",
       "  )\n",
       "  (continuous_feature_net): Sequential(\n",
       "    (0): Linear(in_features=64, out_features=64, bias=True)\n",
       "    (1): Tanh()\n",
       "    (2): Linear(in_features=64, out_features=2, bias=True)\n",
       "  )\n",
       "  (adjacency_feature_net): Sequential(\n",
       "    (0): Linear(in_features=64, out_features=64, bias=True)\n",
       "    (1): Tanh()\n",
       "    (2): Linear(in_features=64, out_features=382, bias=True)\n",
       "  )\n",
       ")"
      ]
     },
     "execution_count": 5,
     "metadata": {},
     "output_type": "execute_result"
    }
   ],
   "source": [
    "run = 1\n",
    "checkpoint_path = \"wadld/outputs/multi_run/run\"+ str(run) + \"/last.checkpoint\"\n",
    "checkpoint = torch.load(checkpoint_path)\n",
    "\n",
    "if 'args' in checkpoint.keys():\n",
    "    rnn_hidden_size = checkpoint['args']['hidden_size']\n",
    "    rnn_num_layers = checkpoint['args']['num_layers']\n",
    "else:\n",
    "    rnn_hidden_size = 64\n",
    "    rnn_num_layers = 3\n",
    "\n",
    "model = graph_rnn.GraphRNN(\n",
    "    discrete_feature_dim=dataset.discrete_feature_dim,\n",
    "    continuous_feature_dim=dataset.continuous_feature_dim,\n",
    "    max_vertex_num=dataset.max_vertex_num,\n",
    "    rnn_hidden_size=rnn_hidden_size,\n",
    "    rnn_num_layers=rnn_num_layers,\n",
    ")\n",
    "model.load_state_dict(checkpoint['model'])\n",
    "model.eval()\n"
   ]
  },
  {
   "cell_type": "code",
   "execution_count": 22,
   "metadata": {},
   "outputs": [
    {
     "data": {
      "text/plain": [
       "Parameter containing:\n",
       "tensor([0.3573, 0.3573], requires_grad=True)"
      ]
     },
     "execution_count": 22,
     "metadata": {},
     "output_type": "execute_result"
    }
   ],
   "source": [
    "model.continuous_feature_net[2].bias"
   ]
  },
  {
   "cell_type": "code",
   "execution_count": null,
   "metadata": {},
   "outputs": [],
   "source": []
  }
 ],
 "metadata": {
  "kernelspec": {
   "display_name": "Python [conda env:py36]",
   "language": "python",
   "name": "conda-env-py36-py"
  },
  "language_info": {
   "codemirror_mode": {
    "name": "ipython",
    "version": 3
   },
   "file_extension": ".py",
   "mimetype": "text/x-python",
   "name": "python",
   "nbconvert_exporter": "python",
   "pygments_lexer": "ipython3",
   "version": "3.6.7"
  }
 },
 "nbformat": 4,
 "nbformat_minor": 2
}
